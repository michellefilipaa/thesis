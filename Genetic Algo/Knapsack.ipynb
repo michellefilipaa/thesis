{
 "cells": [
  {
   "cell_type": "markdown",
   "id": "c7addeb4",
   "metadata": {},
   "source": [
    "# Knapsack - Genetic Algorithm"
   ]
  },
  {
   "cell_type": "markdown",
   "id": "4bd49dd3",
   "metadata": {},
   "source": [
    "**Asha de Meij (i6254733) & Michelle Lear (i6240491)**"
   ]
  },
  {
   "cell_type": "code",
   "execution_count": 2,
   "id": "83ac0a19",
   "metadata": {},
   "outputs": [],
   "source": [
    "import random"
   ]
  },
  {
   "cell_type": "markdown",
   "id": "75969c40",
   "metadata": {},
   "source": [
    "Create 10 items\n",
    "<br> item = (name, value, weight)"
   ]
  },
  {
   "cell_type": "code",
   "execution_count": 3,
   "id": "6d8eef09",
   "metadata": {},
   "outputs": [],
   "source": [
    "item1 = ('Phone', 1, random.randint(1,10))\n",
    "item2 = ('Charger', 2, random.randint(1,10))\n",
    "item3 = ('Bottle', 3, random.randint(1,10))\n",
    "item4 = ('Blanket', 4, random.randint(1,10))\n",
    "item5 = ('Book', 5, random.randint(1,10))\n",
    "item6 = ('Torch', 6, random.randint(1,10))\n",
    "item7 = ('Orange', 7, random.randint(1,10))\n",
    "item8 = ('Toothbrush', 8, random.randint(1,10))\n",
    "item9 = ('Deordorant', 9, random.randint(1,10))\n",
    "item10 = ('Knife', 10, random.randint(1,10))\n",
    "\n",
    "item_list = [item1, item2, item3, item4, item5, item6, item7, item8, item9, item10]"
   ]
  },
  {
   "cell_type": "markdown",
   "id": "086d53a4",
   "metadata": {},
   "source": [
    "Set the parameters for the genetic algorithm"
   ]
  },
  {
   "cell_type": "code",
   "execution_count": 4,
   "id": "7215836e",
   "metadata": {},
   "outputs": [],
   "source": [
    "pop_size = 10\n",
    "gen_size = 10\n",
    "mutation_rate = 0.1\n",
    "weight_limit = 30"
   ]
  },
  {
   "cell_type": "code",
   "execution_count": 5,
   "id": "28c06259",
   "metadata": {},
   "outputs": [],
   "source": [
    "def initial_population(size):\n",
    "    population = []\n",
    "    i = 0\n",
    "    while i < pop_size:\n",
    "        new_solution = [random.randint(0, 1) for _ in range(10)]\n",
    "        if check_generation(new_solution, weight_limit):\n",
    "            if len(population) == 0:\n",
    "                population.append(new_solution)\n",
    "                i += 1\n",
    "            else:\n",
    "                # compare the new solution with existing solutions,\n",
    "                # if there is any same solution, then skip this solution and generate a new solution\n",
    "                skip = False\n",
    "                for j in range(0, len(population)):\n",
    "                    if check_for_duplicates(new_solution, population[j]):\n",
    "                        skip = True\n",
    "                        continue\n",
    "                if not skip:\n",
    "                    population.append(new_solution)\n",
    "                    i += 1\n",
    "    return population"
   ]
  },
  {
   "cell_type": "markdown",
   "id": "52e48744",
   "metadata": {},
   "source": [
    "Check if the randomly generated list has a total weight under the limit"
   ]
  },
  {
   "cell_type": "code",
   "execution_count": 6,
   "id": "1d0d6084",
   "metadata": {},
   "outputs": [],
   "source": [
    "def check_generation(gen, limit):\n",
    "    weight = 0\n",
    "    for i in range(pop_size):\n",
    "        if gen[i] == 1:\n",
    "            weight += item_list[i][2]\n",
    "\n",
    "    if weight > limit:\n",
    "        return False\n",
    "    else:\n",
    "        return True"
   ]
  },
  {
   "cell_type": "markdown",
   "id": "86a73766",
   "metadata": {},
   "source": [
    "Calculate the value "
   ]
  },
  {
   "cell_type": "code",
   "execution_count": 7,
   "id": "6e8a822d",
   "metadata": {},
   "outputs": [],
   "source": [
    "def generation_value(gen):\n",
    "    weight = 0\n",
    "    for i in range(pop_size):\n",
    "        if gen[i] == 1:\n",
    "            weight += item_list[i][2]\n",
    "    return weight"
   ]
  },
  {
   "cell_type": "markdown",
   "id": "c4a56d1f",
   "metadata": {},
   "source": [
    "Check if a generation already exists within the population"
   ]
  },
  {
   "cell_type": "code",
   "execution_count": 8,
   "id": "972eced3",
   "metadata": {},
   "outputs": [],
   "source": [
    "def check_for_duplicates(gen, population):\n",
    "    for i in range(len(population)):\n",
    "        if population[i] != gen:\n",
    "            return False\n",
    "        \n",
    "    return True"
   ]
  },
  {
   "cell_type": "markdown",
   "id": "64eeda18",
   "metadata": {},
   "source": [
    "Selection will be done randomly"
   ]
  },
  {
   "cell_type": "code",
   "execution_count": 9,
   "id": "65a792e3",
   "metadata": {},
   "outputs": [],
   "source": [
    "def selection(population):\n",
    "    return random.choice(population)"
   ]
  },
  {
   "cell_type": "markdown",
   "id": "e10dd95e",
   "metadata": {},
   "source": [
    "The fitness will simply be the total value of the items in the knapsack"
   ]
  },
  {
   "cell_type": "code",
   "execution_count": 10,
   "id": "3315dd04",
   "metadata": {},
   "outputs": [],
   "source": [
    "def fitness(generation):\n",
    "    total_fitness = 0\n",
    "    for individual in generation:\n",
    "        for i in range(gen_size):\n",
    "            if individual == 1:\n",
    "                total_fitness += item_list[i][2]\n",
    "\n",
    "    return total_fitness"
   ]
  },
  {
   "cell_type": "markdown",
   "id": "ef685a73",
   "metadata": {},
   "source": [
    "We will use single-point crossover"
   ]
  },
  {
   "cell_type": "code",
   "execution_count": 11,
   "id": "f58381b3",
   "metadata": {},
   "outputs": [],
   "source": [
    "def crossover(mother, father):\n",
    "    crossover_point = random.randint(0, len(mother) - 1)\n",
    "    child = mother[:crossover_point] + father[crossover_point:]\n",
    "\n",
    "    # check if the children are valid solutions\n",
    "    if check_generation(child, weight_limit):\n",
    "        return child\n",
    "    else:\n",
    "        return crossover(mother, father)"
   ]
  },
  {
   "cell_type": "markdown",
   "id": "7e955081",
   "metadata": {},
   "source": [
    "And swap mutation"
   ]
  },
  {
   "cell_type": "code",
   "execution_count": 12,
   "id": "679cfe41",
   "metadata": {},
   "outputs": [],
   "source": [
    "def mutation(individual):\n",
    "    temp = individual\n",
    "    a = random.randint(0, 9)\n",
    "    b = random.randint(0, 9)\n",
    "    \n",
    "    individual[a] = temp[b]\n",
    "    individual[b] = temp[a]\n",
    "    \n",
    "    \n",
    "    if check_generation(individual, weight_limit):\n",
    "        return individual\n",
    "    else:\n",
    "        return mutation(individual)"
   ]
  },
  {
   "cell_type": "markdown",
   "id": "1e8cc867",
   "metadata": {},
   "source": [
    "This method will create the next generation of individuals"
   ]
  },
  {
   "cell_type": "code",
   "execution_count": 13,
   "id": "37c210d2",
   "metadata": {},
   "outputs": [],
   "source": [
    "def evolution(population, mutation_rate):\n",
    "    next_gen = []\n",
    "\n",
    "    for i in range(0, pop_size):\n",
    "        mother = selection(population)\n",
    "        father = selection(population)\n",
    "        child = crossover(mother, father)\n",
    "\n",
    "        if random.random() < mutation_rate:\n",
    "            child = mutation(child)\n",
    "\n",
    "        next_gen.append(child)\n",
    "\n",
    "    return next_gen"
   ]
  },
  {
   "cell_type": "code",
   "execution_count": 14,
   "id": "4d7bd33e",
   "metadata": {},
   "outputs": [],
   "source": [
    "def optimal_knapsack(population):\n",
    "    best = 0\n",
    "    for i in range(0, pop_size):\n",
    "        temp = generation_value(population[i])\n",
    "        if temp > best:\n",
    "            best = temp\n",
    "            index = i\n",
    "    return population[index]"
   ]
  },
  {
   "cell_type": "code",
   "execution_count": 15,
   "id": "84c33ce2",
   "metadata": {},
   "outputs": [],
   "source": [
    "def main():\n",
    "    generation_values = []\n",
    "    pop = initial_population(pop_size)\n",
    "    \n",
    "    for i in range(0, gen_size):\n",
    "        pop = evolution(pop, mutation_rate)\n",
    "    \n",
    "    print(pop)\n",
    "    return optimal_knapsack(pop)"
   ]
  },
  {
   "cell_type": "code",
   "execution_count": 18,
   "id": "e0a21c90",
   "metadata": {},
   "outputs": [
    {
     "name": "stdout",
     "output_type": "stream",
     "text": [
      "[[0, 0, 1, 1, 0, 0, 1, 0, 0, 0], [0, 0, 0, 1, 0, 0, 1, 0, 0, 0], [0, 0, 0, 1, 0, 0, 1, 0, 0, 1], [0, 0, 1, 1, 0, 0, 1, 0, 0, 0], [0, 0, 0, 1, 0, 0, 1, 0, 0, 0], [0, 0, 1, 1, 0, 0, 1, 0, 0, 1], [0, 0, 0, 1, 0, 0, 1, 0, 0, 0], [0, 0, 0, 1, 0, 0, 1, 0, 0, 0], [0, 0, 1, 1, 0, 0, 1, 0, 0, 0], [0, 0, 1, 1, 0, 0, 1, 0, 0, 0]]\n"
     ]
    }
   ],
   "source": [
    "# latest population after genetic algorithm run\n",
    "knapsack = main()"
   ]
  },
  {
   "cell_type": "code",
   "execution_count": 19,
   "id": "b7713ea8",
   "metadata": {},
   "outputs": [],
   "source": [
    "def getKnapsackItems(knapsack):\n",
    "    in_sack = []\n",
    "    for i in range(pop_size):\n",
    "        if knapsack[i] == 1:\n",
    "            in_sack.append(item_list[i][0])\n",
    "    return in_sack"
   ]
  },
  {
   "cell_type": "code",
   "execution_count": 20,
   "id": "e07943cc",
   "metadata": {},
   "outputs": [
    {
     "name": "stdout",
     "output_type": "stream",
     "text": [
      "Best solution  ['Bottle', 'Blanket', 'Orange', 'Knife']\n"
     ]
    }
   ],
   "source": [
    "print(\"Best solution \", getKnapsackItems(knapsack))"
   ]
  },
  {
   "cell_type": "code",
   "execution_count": null,
   "id": "1e88c979",
   "metadata": {},
   "outputs": [],
   "source": []
  }
 ],
 "metadata": {
  "kernelspec": {
   "display_name": "Python 3 (ipykernel)",
   "language": "python",
   "name": "python3"
  },
  "language_info": {
   "codemirror_mode": {
    "name": "ipython",
    "version": 3
   },
   "file_extension": ".py",
   "mimetype": "text/x-python",
   "name": "python",
   "nbconvert_exporter": "python",
   "pygments_lexer": "ipython3",
   "version": "3.11.3"
  }
 },
 "nbformat": 4,
 "nbformat_minor": 5
}
