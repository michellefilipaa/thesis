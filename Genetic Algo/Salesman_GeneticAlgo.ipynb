{
 "cells": [
  {
   "cell_type": "markdown",
   "id": "67d26a2f",
   "metadata": {},
   "source": [
    "# Traveling Salesman problem - genetic algorithm"
   ]
  },
  {
   "cell_type": "markdown",
   "id": "ecac6223",
   "metadata": {},
   "source": [
    "**Asha de Meij (i6254733) & Michelle Lear (i6240491)**"
   ]
  },
  {
   "cell_type": "code",
   "execution_count": 33,
   "id": "94e9bddd",
   "metadata": {},
   "outputs": [],
   "source": [
    "import random\n",
    "import math\n",
    "import numpy as np\n",
    "import random\n",
    "\n",
    "from datetime import datetime"
   ]
  },
  {
   "cell_type": "markdown",
   "id": "ab8f0aa9",
   "metadata": {},
   "source": [
    "**1. Define a list of cities**"
   ]
  },
  {
   "cell_type": "code",
   "execution_count": 34,
   "id": "8a645e48",
   "metadata": {},
   "outputs": [],
   "source": [
    "cities = [(\"Barcelona\", (48,12)), (\"Paris\", (91, 13)), (\"London\", (4, 2)), (\"Amsterdam\", (13, 3)), (\"Milan\", (85, 17)), (\"Brussels\", (57, 89)), (\"Madrid\", (9, 44))]\n",
    "num_cities = len(cities)\n",
    "\n",
    "# define genetic algorithm parameters\n",
    "population_size = 10\n",
    "mutation_rate = 0.1\n",
    "generations = 100"
   ]
  },
  {
   "cell_type": "markdown",
   "id": "8999c2d0",
   "metadata": {},
   "source": [
    "**2. Create all the needed functions**"
   ]
  },
  {
   "cell_type": "code",
   "execution_count": 35,
   "id": "3e99c9c5",
   "metadata": {},
   "outputs": [],
   "source": [
    "# define fitness function\n",
    "def get_fitness(population, cities):\n",
    "    fitnessList = np.zeros(population_size)\n",
    "\n",
    "    #Looping over all solutions computing the fitness for each solution\n",
    "    for i in  range(population_size):\n",
    "        fitnessList[i] = fitnessEvaluation(population[i])\n",
    "\n",
    "    return fitnessList\n",
    "\n",
    "\n",
    "# define fitness evaluation\n",
    "def fitnessEvaluation(chromosome):\n",
    "    total_distance = 0\n",
    "    for i in range(num_cities):\n",
    "        # distance between two cities/points\n",
    "        city1 = chromosome[i]\n",
    "        city2 = chromosome[(i+1) % num_cities]\n",
    "        distance = math.sqrt((city2[1][0] - city1[1][0])**2 + (city2[1][1] - city1[1][1])**2)\n",
    "        total_distance += distance\n",
    "    return 1 / total_distance\n",
    "\n",
    "# define selection function\n",
    "def selection(population):\n",
    "    fitness_scores = [fitness(chromosome) for chromosome in population]\n",
    "    total_fitness = sum(fitness_scores)\n",
    "    selection_probabilities = [fitness_scores[i] / total_fitness for i in range(len(population))]\n",
    "    return random.choices(population, weights=selection_probabilities, k=2)\n",
    "\n",
    "# define crossover function\n",
    "def crossover(parent1, parent2):\n",
    "    crossover_point = random.randint(1, num_cities - 1)\n",
    "    child1 = parent1[:crossover_point] + [city for city in parent2 if city not in parent1[:crossover_point]]\n",
    "    child2 = parent2[:crossover_point] + [city for city in parent1 if city not in parent2[:crossover_point]]\n",
    "    return child1, child2\n",
    "\n",
    "# define mutation function\n",
    "def mutation(chromosome):\n",
    "    index1, index2 = random.sample(range(num_cities), 2)\n",
    "    chromosome[index1], chromosome[index2] = chromosome[index2], chromosome[index1]\n",
    "    return chromosome"
   ]
  },
  {
   "cell_type": "markdown",
   "id": "578a6c03",
   "metadata": {},
   "source": [
    "**3. Create the 1st population set**"
   ]
  },
  {
   "cell_type": "code",
   "execution_count": 36,
   "id": "4ee3de9f",
   "metadata": {},
   "outputs": [
    {
     "data": {
      "text/plain": [
       "[[('London', (4, 2)),\n",
       "  ('Barcelona', (48, 12)),\n",
       "  ('Paris', (91, 13)),\n",
       "  ('Amsterdam', (13, 3)),\n",
       "  ('Brussels', (57, 89)),\n",
       "  ('Madrid', (9, 44)),\n",
       "  ('Milan', (85, 17))],\n",
       " [('Milan', (85, 17)),\n",
       "  ('Brussels', (57, 89)),\n",
       "  ('Madrid', (9, 44)),\n",
       "  ('Amsterdam', (13, 3)),\n",
       "  ('Paris', (91, 13)),\n",
       "  ('Barcelona', (48, 12)),\n",
       "  ('London', (4, 2))],\n",
       " [('Paris', (91, 13)),\n",
       "  ('Brussels', (57, 89)),\n",
       "  ('Milan', (85, 17)),\n",
       "  ('London', (4, 2)),\n",
       "  ('Barcelona', (48, 12)),\n",
       "  ('Madrid', (9, 44)),\n",
       "  ('Amsterdam', (13, 3))],\n",
       " [('Amsterdam', (13, 3)),\n",
       "  ('Madrid', (9, 44)),\n",
       "  ('London', (4, 2)),\n",
       "  ('Milan', (85, 17)),\n",
       "  ('Paris', (91, 13)),\n",
       "  ('Barcelona', (48, 12)),\n",
       "  ('Brussels', (57, 89))],\n",
       " [('Amsterdam', (13, 3)),\n",
       "  ('Barcelona', (48, 12)),\n",
       "  ('Milan', (85, 17)),\n",
       "  ('Brussels', (57, 89)),\n",
       "  ('London', (4, 2)),\n",
       "  ('Paris', (91, 13)),\n",
       "  ('Madrid', (9, 44))],\n",
       " [('Amsterdam', (13, 3)),\n",
       "  ('Brussels', (57, 89)),\n",
       "  ('London', (4, 2)),\n",
       "  ('Madrid', (9, 44)),\n",
       "  ('Paris', (91, 13)),\n",
       "  ('Barcelona', (48, 12)),\n",
       "  ('Milan', (85, 17))],\n",
       " [('London', (4, 2)),\n",
       "  ('Milan', (85, 17)),\n",
       "  ('Barcelona', (48, 12)),\n",
       "  ('Brussels', (57, 89)),\n",
       "  ('Amsterdam', (13, 3)),\n",
       "  ('Paris', (91, 13)),\n",
       "  ('Madrid', (9, 44))],\n",
       " [('Milan', (85, 17)),\n",
       "  ('Amsterdam', (13, 3)),\n",
       "  ('Madrid', (9, 44)),\n",
       "  ('Barcelona', (48, 12)),\n",
       "  ('London', (4, 2)),\n",
       "  ('Paris', (91, 13)),\n",
       "  ('Brussels', (57, 89))],\n",
       " [('Amsterdam', (13, 3)),\n",
       "  ('London', (4, 2)),\n",
       "  ('Milan', (85, 17)),\n",
       "  ('Barcelona', (48, 12)),\n",
       "  ('Madrid', (9, 44)),\n",
       "  ('Brussels', (57, 89)),\n",
       "  ('Paris', (91, 13))],\n",
       " [('Paris', (91, 13)),\n",
       "  ('London', (4, 2)),\n",
       "  ('Madrid', (9, 44)),\n",
       "  ('Milan', (85, 17)),\n",
       "  ('Amsterdam', (13, 3)),\n",
       "  ('Brussels', (57, 89)),\n",
       "  ('Barcelona', (48, 12))]]"
      ]
     },
     "execution_count": 36,
     "metadata": {},
     "output_type": "execute_result"
    }
   ],
   "source": [
    "population = [random.sample(cities, num_cities) for _ in range(population_size)]\n",
    "population"
   ]
  },
  {
   "cell_type": "markdown",
   "id": "e640cc7d",
   "metadata": {},
   "source": [
    "**4. Evolve the population**"
   ]
  },
  {
   "cell_type": "code",
   "execution_count": 37,
   "id": "5e7eee73",
   "metadata": {},
   "outputs": [
    {
     "data": {
      "text/plain": [
       "array([0.00203169, 0.00230738, 0.00218202, 0.00256267, 0.00213151,\n",
       "       0.00207412, 0.00199029, 0.00218189, 0.00245755, 0.00199549])"
      ]
     },
     "execution_count": 37,
     "metadata": {},
     "output_type": "execute_result"
    }
   ],
   "source": [
    "# Get the fitness of population\n",
    "fitness_pop = get_fitness(population, cities)\n",
    "fitness_pop"
   ]
  },
  {
   "cell_type": "code",
   "execution_count": 38,
   "id": "516df2cc",
   "metadata": {},
   "outputs": [],
   "source": [
    "for generation in range(generations):\n",
    "    # select parents/ create pairs\n",
    "    parents = [selection(population) for _ in range(population_size)]\n",
    "    # perform crossover\n",
    "    offspring = []\n",
    "    for i in range(0, population_size, 2):\n",
    "        child1, child2 = crossover(parents[i][0], parents[i+1][0])\n",
    "        offspring.append(child1)\n",
    "        offspring.append(child2)\n",
    "    # perform mutation\n",
    "    for i in range(population_size):\n",
    "        if random.random() < mutation_rate:\n",
    "            offspring[i] = mutation(offspring[i])\n",
    "    # select next generation\n",
    "    population = offspring"
   ]
  },
  {
   "cell_type": "markdown",
   "id": "df28f140",
   "metadata": {},
   "source": [
    "**5. After evolving the population and finally meeting the stopping criteria, we finally the get the best solution**"
   ]
  },
  {
   "cell_type": "code",
   "execution_count": 39,
   "id": "71d668e0",
   "metadata": {},
   "outputs": [
    {
     "name": "stdout",
     "output_type": "stream",
     "text": [
      "Best solution:\n"
     ]
    },
    {
     "data": {
      "text/plain": [
       "[('London', (4, 2)),\n",
       " ('Barcelona', (48, 12)),\n",
       " ('Milan', (85, 17)),\n",
       " ('Paris', (91, 13)),\n",
       " ('Madrid', (9, 44)),\n",
       " ('Brussels', (57, 89)),\n",
       " ('Amsterdam', (13, 3))]"
      ]
     },
     "execution_count": 39,
     "metadata": {},
     "output_type": "execute_result"
    }
   ],
   "source": [
    "# select best solution\n",
    "best_solution = max(population, key=fitness)\n",
    "\n",
    "print(\"Best solution:\")\n",
    "best_solution"
   ]
  }
 ],
 "metadata": {
  "kernelspec": {
   "display_name": "Python 3 (ipykernel)",
   "language": "python",
   "name": "python3"
  },
  "language_info": {
   "codemirror_mode": {
    "name": "ipython",
    "version": 3
   },
   "file_extension": ".py",
   "mimetype": "text/x-python",
   "name": "python",
   "nbconvert_exporter": "python",
   "pygments_lexer": "ipython3",
   "version": "3.11.3"
  }
 },
 "nbformat": 4,
 "nbformat_minor": 5
}
